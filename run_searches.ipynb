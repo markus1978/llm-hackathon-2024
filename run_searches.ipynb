{
 "cells": [
  {
   "cell_type": "markdown",
   "id": "ab69efa1-fc4a-4b64-84bc-a5fda6428103",
   "metadata": {},
   "source": [
    "# Prompt to NOMAD searches\n",
    "\n",
    "NOMAD has an extensive search api with hundreds of potential seachable quantities. Creating search queries can be hard for people not knowing the keys and our query format. In this project, we want to explore if and how LLMs can generate NOMAD search queries from human input."
   ]
  },
  {
   "cell_type": "markdown",
   "id": "1ec15cce-5ffa-46a9-9a67-6584dcb3ba28",
   "metadata": {},
   "source": [
    "## Search key documentation\n",
    "\n",
    "As a first step, we need to produce some information on our search quantities, i.e. the keys you can use in your search queries. We use the following process:\n",
    "- get all search quantities from the NOMAD code\n",
    "- in the beginning: filter exotic quantities (e.g. from plugins, optimade, etc)\n",
    "- in the beginning: only use a sub-set, i.e. the most \"popular\", quantities\n",
    "- try to retrieve good values for those quantities that can be aggregated over values\n",
    "- provide the quantities with a fixed schema: `key` -> `description`, `type`, `values`"
   ]
  },
  {
   "cell_type": "code",
   "execution_count": 1,
   "id": "c7d8631c-5b58-48b4-83fa-7890e0637ee2",
   "metadata": {},
   "outputs": [
    {
     "name": "stderr",
     "output_type": "stream",
     "text": [
      "Schema is deprecated, use plugins. ()\n"
     ]
    }
   ],
   "source": [
    "from nomad import config\n",
    "from nomad.datamodel import EntryArchive\n",
    "from nomad.metainfo import Reference, MEnum\n",
    "from nomad.metainfo.elasticsearch_extension import entry_index\n",
    "import json\n",
    "import requests"
   ]
  },
  {
   "cell_type": "code",
   "execution_count": 2,
   "id": "972ced1f-7483-446b-908a-f12ae6b4f930",
   "metadata": {},
   "outputs": [
    {
     "name": "stdout",
     "output_type": "stream",
     "text": [
      "roughly 6213 tokens\n"
     ]
    }
   ],
   "source": [
    "# Read all possible search quantities from NOMAD and filter exotic and technical keys\n",
    "search_keys = dict()\n",
    "if not entry_index.doc_type.mapping:\n",
    "    entry_index.doc_type.create_mapping(EntryArchive.m_def)\n",
    "for key, value in entry_index.doc_type.quantities.items():\n",
    "    annotation = value.annotation\n",
    "\n",
    "    try:\n",
    "        if isinstance(annotation.definition.type, Reference):\n",
    "            continue\n",
    "\n",
    "        if isinstance(annotation.definition.type, MEnum):\n",
    "            type = list(annotation.definition.type)\n",
    "        else:\n",
    "            type = annotation.definition.type.__name__\n",
    "    except:\n",
    "        type = str(annotation.definition.type)\n",
    "\n",
    "    if annotation.field:\n",
    "        key = f'{key}.{annotation.field}'\n",
    "\n",
    "    # In the beginning we do not want these\n",
    "    if '__suggestion' in key:\n",
    "        continue\n",
    "    if 'optimade' in key:\n",
    "        continue\n",
    "    if 'topology' in key:\n",
    "        continue\n",
    "    if 'eln' in key:\n",
    "        continue\n",
    "    if key.startswith('data'):\n",
    "        continue\n",
    "    if not annotation.definition.description:\n",
    "        continue\n",
    "    \n",
    "    search_keys[key] = dict(\n",
    "        description=annotation.definition.description,\n",
    "        aggregatable=annotation.aggregatable,\n",
    "        type=type\n",
    "    )\n",
    "\n",
    "print(f'roughly {len(json.dumps(search_keys).split())} tokens')"
   ]
  },
  {
   "cell_type": "code",
   "execution_count": 3,
   "id": "5f72a0af-6ff7-4f56-b692-8b2107222816",
   "metadata": {},
   "outputs": [
    {
     "name": "stdout",
     "output_type": "stream",
     "text": [
      "roughly 1126 tokens\n"
     ]
    }
   ],
   "source": [
    "# In the beginning we might limit ourselves to a sub-set of search quantities\n",
    "limited_keys = \"\"\"\n",
    "results.material.material_name\n",
    "results.material.structural_type\n",
    "results.material.dimensionality\n",
    "results.material.elements\n",
    "results.material.n_elements\n",
    "results.material.elements_exclusive\n",
    "results.material.chemical_formula_descriptive\n",
    "results.material.chemical_formula_reduced\n",
    "results.material.chemical_formula_hill\n",
    "results.material.chemical_formula_iupac\n",
    "results.material.symmetry.bravais_lattice\n",
    "results.material.symmetry.crystal_system\n",
    "results.material.symmetry.hall_number\n",
    "results.material.symmetry.hall_symbol\n",
    "results.material.symmetry.point_group\n",
    "results.material.symmetry.space_group_number\n",
    "results.material.symmetry.space_group_symbol\n",
    "results.material.symmetry.structure_name\n",
    "results.material.symmetry.strukturbericht_designation\n",
    "results.method.method_name\n",
    "results.method.simulation.program_name\n",
    "results.method.simulation.dft.basis_set_type\n",
    "results.method.simulation.dft.core_electron_treatment\n",
    "results.method.simulation.dft.spin_polarized\n",
    "results.method.simulation.dft.scf_threshold_energy_change\n",
    "results.method.simulation.dft.van_der_Waals_method\n",
    "results.method.simulation.dft.relativity_method\n",
    "results.method.simulation.dft.smearing_kind\n",
    "results.method.simulation.dft.smearing_width\n",
    "results.method.simulation.dft.jacobs_ladder\n",
    "results.method.simulation.dft.xc_functional_type\n",
    "results.method.simulation.dft.xc_functional_names\n",
    "results.properties.available_properties\n",
    "results.properties.electronic.band_gap.value\n",
    "results.properties.electronic.band_gap.type\n",
    "results.properties.geometry_optimization.convergence_tolerance_energy_difference\n",
    "results.properties.geometry_optimization.convergence_tolerance_force_maximum\n",
    "results.properties.geometry_optimization.final_force_maximum\n",
    "results.properties.geometry_optimization.final_energy_difference\n",
    "results.properties.geometry_optimization.final_displacement_maximum\"\"\".split()\n",
    "search_keys = {key: value for key, value in search_keys.items() if key in limited_keys}\n",
    "print(f'roughly {len(json.dumps(search_keys).split())} tokens')"
   ]
  },
  {
   "cell_type": "code",
   "execution_count": 4,
   "id": "bd8a5780-e82c-4b51-9b77-ee96060f44a6",
   "metadata": {},
   "outputs": [
    {
     "data": {
      "text/plain": [
       "<Response [200]>"
      ]
     },
     "execution_count": 4,
     "metadata": {},
     "output_type": "execute_result"
    }
   ],
   "source": [
    "# Run aggregations against the contral NOMAD for those quantities that are aggregatable\n",
    "aggregatable_keys = [key for key, value in search_keys.items() if value['aggregatable']]\n",
    "\n",
    "# For those keys we want all values, because these are the exact values to use.\n",
    "# For the other aggregatable keys we are more interested in example values.\n",
    "all_value_keys = \"\"\"\n",
    "results.material.symmetry.bravais_lattice\n",
    "results.material.symmetry.crystal_system\n",
    "results.material.symmetry.hall_symbol\n",
    "results.material.symmetry.point_group\n",
    "results.material.symmetry.space_group_symbol\n",
    "results.material.symmetry.strukturbericht_designation\n",
    "results.method.method_name\n",
    "results.method.simulation.program_name\n",
    "results.method.simulation.dft.basis_set_type\n",
    "results.method.simulation.dft.core_electron_treatment\n",
    "results.method.simulation.dft.spin_polarized\n",
    "results.method.simulation.dft.van_der_Waals_method\n",
    "results.method.simulation.dft.relativity_method\n",
    "results.method.simulation.dft.smearing_kind\n",
    "results.method.simulation.dft.jacobs_ladder\n",
    "results.method.simulation.dft.xc_functional_type\n",
    "results.method.simulation.dft.xc_functional_names\n",
    "results.properties.available_properties\n",
    "results.properties.electronic.band_gap.type\n",
    "\"\"\".split()\n",
    "\n",
    "def create_aggregation(key):\n",
    "    return {\n",
    "        \"terms\": {\n",
    "            \"pagination\": {\n",
    "                \"page_size\": 500 if key in all_value_keys else 5\n",
    "            }, \n",
    "            \"quantity\": key\n",
    "        }\n",
    "    }\n",
    "\n",
    "query = {\n",
    "    \"pagination\": {\n",
    "        \"page_size\": 0\n",
    "    },\n",
    "    \"aggregations\": {\n",
    "        key: create_aggregation(key) for key in aggregatable_keys\n",
    "    }\n",
    "}\n",
    "\n",
    "url = f'{config.client.url}/v1/entries/query'\n",
    "response = requests.post(url, json=query)\n",
    "response"
   ]
  },
  {
   "cell_type": "code",
   "execution_count": 5,
   "id": "7bac35ce-aff3-4e21-91bd-19a8a2b05e10",
   "metadata": {},
   "outputs": [
    {
     "name": "stdout",
     "output_type": "stream",
     "text": [
      "roughly 3752 tokens\n"
     ]
    }
   ],
   "source": [
    "# Add the aggregation values to the search key data. \n",
    "# Override the aggregated information if there are \n",
    "# fixed enum values. Remove the distracting \"aggregatable\" key.\n",
    "aggregation_data = response.json()[\"aggregations\"]\n",
    "for key in aggregatable_keys:\n",
    "    if key in all_value_keys:\n",
    "        search_keys[key]['values'] = {\n",
    "            item['value']: item['count'] for item in aggregation_data[key]['terms']['data']\n",
    "        }\n",
    "    else:\n",
    "        search_keys[key]['example_values'] = [item['value'] for item in aggregation_data[key]['terms']['data']]\n",
    "for value in search_keys.values():\n",
    "    if 'aggregatable' in value:\n",
    "        del(value['aggregatable'])\n",
    "    if isinstance(value['type'], list):\n",
    "        value['values'] = value['type']\n",
    "        value['type'] = 'enum'\n",
    "\n",
    "print(f'roughly {len(json.dumps(search_keys).split())} tokens')"
   ]
  },
  {
   "cell_type": "markdown",
   "id": "87d378a2-d033-4748-b1cb-b63ce55801e5",
   "metadata": {},
   "source": [
    "This is what the search key data looks like"
   ]
  },
  {
   "cell_type": "code",
   "execution_count": 6,
   "id": "75c95026-198b-42a0-be77-7b836ea29b55",
   "metadata": {},
   "outputs": [
    {
     "name": "stdout",
     "output_type": "stream",
     "text": [
      "{\n",
      "  \"description\": \"The name of the used program.\",\n",
      "  \"type\": \"str\",\n",
      "  \"values\": {\n",
      "    \"ABINIT\": 18795,\n",
      "    \"AMS\": 34942,\n",
      "    \"ASAP\": 1572,\n",
      "    \"ATK\": 163,\n",
      "    \"Amber\": 1,\n",
      "    \"BAND\": 538,\n",
      "    \"BigDFT\": 702,\n",
      "    \"CASTEP\": 6203,\n",
      "    \"CP2K\": 4143,\n",
      "    \"CPMD\": 5,\n",
      "    \"Charmm\": 5,\n",
      "    \"Crystal\": 12473,\n",
      "    \"DFTB+\": 24,\n",
      "    \"DL_POLY\": 1,\n",
      "    \"DL_POLY_4\": 1,\n",
      "    \"DMol3\": 1,\n",
      "    \"FHI-aims\": 1312459,\n",
      "    \"FHI-vibes\": 227,\n",
      "    \"GAMESS\": 73,\n",
      "    \"GPAW\": 9467,\n",
      "    \"GROMACS\": 13532,\n",
      "    \"Gaussian\": 2196293,\n",
      "    \"Gromos\": 3,\n",
      "    \"LAMMPS\": 1597,\n",
      "    \"LOBSTER\": 241,\n",
      "    \"MOLCAS\": 4,\n",
      "    \"MaterialsProject\": 500,\n",
      "    \"NWChem\": 2533,\n",
      "    \"OCEAN\": 651,\n",
      "    \"ONETEP\": 7,\n",
      "    \"ORCA\": 96521,\n",
      "    \"Octopus\": 107861,\n",
      "    \"OpenKIM\": 1,\n",
      "    \"OpenMX\": 2186,\n",
      "    \"Phonopy\": 1282,\n",
      "    \"Quantum ESPRESSO XSPECTRA\": 363,\n",
      "    \"Quantum Espresso\": 117873,\n",
      "    \"Quantum Espresso EPW\": 189,\n",
      "    \"Quantum Espresso Phonon\": 451,\n",
      "    \"Siesta\": 10,\n",
      "    \"VASP\": 8666823,\n",
      "    \"WIEN2k\": 2324,\n",
      "    \"Wannier90\": 1,\n",
      "    \"YAMBO\": 137,\n",
      "    \"custom elastic calculator\": 12,\n",
      "    \"elastic\": 27,\n",
      "    \"elk\": 2,\n",
      "    \"exciting\": 31099,\n",
      "    \"fleur\": 11,\n",
      "    \"fplo\": 2874,\n",
      "    \"gulp\": 2,\n",
      "    \"libAtoms\": 7,\n",
      "    \"namd\": 6,\n",
      "    \"not processed\": 144,\n",
      "    \"qbox\": 57,\n",
      "    \"tinker\": 3,\n",
      "    \"turbomole\": 5026,\n",
      "    \"xTB\": 5089\n",
      "  }\n",
      "}\n",
      "{\n",
      "  \"description\": \"The chemical formula for a structure in Hill form with element\\nsymbols followed by non-reduced integer chemical proportion numbers.\\nThe proportion number is omitted if it is 1.\",\n",
      "  \"type\": \"str\",\n",
      "  \"example_values\": [\n",
      "    \"Ac\",\n",
      "    \"Ac16S24\",\n",
      "    \"Ac2\",\n",
      "    \"Ac20\",\n",
      "    \"Ac29\"\n",
      "  ]\n",
      "}\n"
     ]
    }
   ],
   "source": [
    "print(json.dumps(search_keys['results.method.simulation.program_name'], indent=2))\n",
    "print(json.dumps(search_keys['results.material.chemical_formula_hill'], indent=2))"
   ]
  },
  {
   "cell_type": "markdown",
   "id": "2bc8efc7-08fe-4244-ab67-7b543ef8b916",
   "metadata": {},
   "source": [
    "## Example queries\n",
    "\n",
    "Having some information on the search keys is just a description of the search \"vocabulary\", \n",
    "we still need to teach the LLM some syntax. We use a few different queries to teach by example. "
   ]
  },
  {
   "cell_type": "code",
   "execution_count": 7,
   "id": "66b2aba0-62fc-417a-83ae-e7193cbc30a3",
   "metadata": {},
   "outputs": [
    {
     "name": "stdout",
     "output_type": "stream",
     "text": [
      "roughly 143 tokens\n"
     ]
    }
   ],
   "source": [
    "# Some example queries\n",
    "example_queries = \"\"\"\n",
    "This query looks for VASP calculations for materials that contain C and O and other elements and produced a DOS (density of states) property:\n",
    "{\n",
    "  \"query\": {\n",
    "    \"results.method.simulation.program_name:any\": [  \n",
    "      \"VASP\"\n",
    "    ],\n",
    "    \"results.material.elements:any\": [\n",
    "      \"C\",\n",
    "      \"O\"\n",
    "    ],\n",
    "    \"results.properties.available_properties:all\": [\n",
    "      \"dos_electronic\"\n",
    "    ]\n",
    "  }\n",
    "}\n",
    "\n",
    "This query looks for exciting calculations with certain elements in the unit cell with cubic symmetry. The simulations need to have calculated\n",
    "a DOS, a band gap, and a band structure.\n",
    "{\n",
    "  \"query\": {\n",
    "    \"results.method.simulation.program_name:any\": [  \n",
    "      \"exciting\"\n",
    "    ],\n",
    "    \"results.material.elements:any\": [\n",
    "      \"Ti\",\n",
    "      \"O\"\n",
    "    ],\n",
    "    \"results.material.symmetry.crystal_system\": \"cubic\",\n",
    "    \"results.properties.available_properties:all\": [\n",
    "      \"dos_electronic\", \"band_gap\", \"band_structure_electronic\"\n",
    "    ]\n",
    "  }\n",
    "}  \n",
    "\n",
    "Here we are looking for either exciting or vasp calcualtions on materials that exclusivly are made from titanium and oxygen.\n",
    "{\n",
    "  \"query\": {\n",
    "    \"and\": [\n",
    "        {\n",
    "            \"or\": [\n",
    "                {\n",
    "                    \"results.method.simulation.program_name\": \"exciting\",\n",
    "                },\n",
    "                {\n",
    "                    \"results.method.simulation.program_name\": \"VASP\",\n",
    "                },\n",
    "            ]\n",
    "        },\n",
    "        {\n",
    "            \"results.material.elements:all\": [\n",
    "              \"Ti\",\n",
    "              \"O\"\n",
    "            ]\n",
    "        }\n",
    "    ]\n",
    "  }\n",
    "}\n",
    "\"\"\"\n",
    "print(f'roughly {len(example_queries.split())} tokens')"
   ]
  },
  {
   "cell_type": "markdown",
   "id": "4e40c817-b692-45f1-9ccd-b24d3a1c906f",
   "metadata": {},
   "source": [
    "## The prompt\n",
    "\n",
    "We know combine everything into a prompt template that comprises:\n",
    "- some instructions\n",
    "- the search key data (vocabulary)\n",
    "- search examples (syntax)\n",
    "- the human input"
   ]
  },
  {
   "cell_type": "code",
   "execution_count": 8,
   "id": "3ee92fee-739b-4626-96ba-0693f254bd3e",
   "metadata": {},
   "outputs": [
    {
     "name": "stdout",
     "output_type": "stream",
     "text": [
      "roughly 224 tokens\n"
     ]
    }
   ],
   "source": [
    "template = '''\n",
    "Your job is to generate JSON queries for a specific search API for a database of \n",
    "computational materials science data that consists of DFT calculations and simulations.\n",
    "\n",
    "In the generated queries, you are only allowed to use a specific set of keys. \n",
    "It is important to use the full keys.\n",
    "Most keys also only allow a specific set of values. The following JSON data describes \n",
    "all available search keys with example values, potential exclusive values, the value type, \n",
    "and a human description. If the values are given, you can only use those values. \n",
    "Capitalization is important. The following \n",
    "data also provides how many entries might have a given value.\n",
    "\n",
    "```\n",
    "{search_keys}\n",
    "```\n",
    "\n",
    "The JSON queries need to follow a strict syntactical format. Each quere is a JSON\n",
    "object with on top level \"query\" key. Behind this \"query\" key, \n",
    "multiple criteria can be combined with \"and\", \"or\", and \"not\" operators.\n",
    "If you want to pass multiple values to a key, use the \":any\" (some values match) and \":all\" (all values match) suffix on the keys. \n",
    "Don't use a $ sign. Here are a few example queries in JSON format:\n",
    "\n",
    "```\n",
    "{example_queries}\n",
    "```\n",
    "\n",
    "Now generate a query that matches the following description. Only use keys that are necessary based on the description.\n",
    "\n",
    "```\n",
    "{input}\n",
    "```\n",
    "\n",
    "Your output has to be valid JSON and only valid JSON.\n",
    "'''\n",
    "\n",
    "print(f'roughly {len(template.split())} tokens')"
   ]
  },
  {
   "cell_type": "markdown",
   "id": "e45dcb5e-880f-4594-9b3c-23b084122992",
   "metadata": {},
   "source": [
    "## Use the LLM\n",
    "\n",
    "We finally use the LLM by generating a prompt based on the template, feeding it into the llm, and parsing the output as JSON."
   ]
  },
  {
   "cell_type": "code",
   "execution_count": 9,
   "id": "1b879692-8e24-4311-9964-85a881fe4174",
   "metadata": {},
   "outputs": [
    {
     "name": "stdout",
     "output_type": "stream",
     "text": [
      "{\n",
      "  \"query\": {\n",
      "    \"and\": [\n",
      "      {\n",
      "        \"results.method.simulation.program_name\": \"VASP\"\n",
      "      },\n",
      "      {\n",
      "        \"results.material.elements:any\": [\n",
      "          \"Ni\",\n",
      "          \"Fe\"\n",
      "        ]\n",
      "      },\n",
      "      {\n",
      "        \"results.properties.available_properties:all\": [\n",
      "          \"dos_electronic\"\n",
      "        ]\n",
      "      }\n",
      "    ]\n",
      "  }\n",
      "}\n"
     ]
    }
   ],
   "source": [
    "# Generating the search query\n",
    "from langchain_core.output_parsers import JsonOutputParser\n",
    "from langchain_core.prompts import ChatPromptTemplate\n",
    "import json\n",
    "from langchain_community.llms import Ollama\n",
    "\n",
    "def generate_query(input):\n",
    "    llm = Ollama(model=\"llama3:70b\")\n",
    "    llm.base_url = 'http://172.28.105.30/backend'\n",
    "    \n",
    "    prompt = ChatPromptTemplate.from_template(template)\n",
    "    output_parser = JsonOutputParser()\n",
    "    \n",
    "    chain = prompt | llm | output_parser\n",
    "\n",
    "    params = {\n",
    "        \"search_keys\": json.dumps(search_keys, indent=2),\n",
    "        \"example_queries\": example_queries,\n",
    "        \"input\": input\n",
    "    }\n",
    "\n",
    "    # print(f'roughly {len(prompt.invoke(params).messages[0].content.split())} tokens')\n",
    "    \n",
    "    return chain.invoke(params)\n",
    "\n",
    "prompt = \"I am looking for VASP simulations of bulk materials made from nickel or iron that have a dos available.\"\n",
    "api_query = generate_query(prompt)\n",
    "queries = {prompt: api_query}\n",
    "\n",
    "print(json.dumps(api_query, indent=2))"
   ]
  },
  {
   "cell_type": "markdown",
   "id": "f00b67a4-81d9-4f80-b70a-f1b6c8310297",
   "metadata": {},
   "source": [
    "Lets do a few more \"wild\" examples"
   ]
  },
  {
   "cell_type": "code",
   "execution_count": 10,
   "id": "e9ef9588-61c3-4795-9b61-e5ede0f2d6dc",
   "metadata": {},
   "outputs": [
    {
     "name": "stdout",
     "output_type": "stream",
     "text": [
      "I need to know the band structure of pure silicon:\n",
      "\n",
      "{\n",
      "  \"query\": {\n",
      "    \"results.material.elements:all\": [\n",
      "      \"Si\"\n",
      "    ],\n",
      "    \"results.properties.available_properties:any\": [\n",
      "      \"band_structure_electronic\"\n",
      "    ]\n",
      "  }\n",
      "}\n",
      "\n",
      "\n",
      "Are there any elastic constant calculations?:\n",
      "\n",
      "{\n",
      "  \"query\": {\n",
      "    \"results.properties.available_properties:any\": [\n",
      "      \"elastic_constants\"\n",
      "    ]\n",
      "  }\n",
      "}\n",
      "\n",
      "\n",
      "My teacher told me, I need to learn about a code called octopy or something.:\n",
      "\n",
      "{\n",
      "  \"query\": {\n",
      "    \"results.method.simulation.program_name\": \"octopus\"\n",
      "  }\n",
      "}\n",
      "\n",
      "\n"
     ]
    }
   ],
   "source": [
    "prompts = [\n",
    "    'I need to know the band structure of pure silicon',\n",
    "    'Are there any elastic constant calculations?',\n",
    "    'My teacher told me, I need to learn about a code called octopy or something.'\n",
    "]\n",
    "\n",
    "\n",
    "for prompt in prompts:\n",
    "    query = None\n",
    "    for i in range(0, 3):\n",
    "        try:\n",
    "            query = generate_query(prompt)\n",
    "            break\n",
    "        except:\n",
    "            pass\n",
    "    queries[prompt] = query\n",
    "    print(f'{prompt}:\\n\\n{json.dumps(query, indent=2)}\\n\\n')"
   ]
  },
  {
   "cell_type": "markdown",
   "id": "bcb3e273-cb29-46d9-951d-6a4001ebdc7c",
   "metadata": {},
   "source": [
    "## Run the generated queries\n",
    "\n",
    "Let's run the queries agains NOMAD:\n",
    "- do they produce errors?\n",
    "- do they produce results?"
   ]
  },
  {
   "cell_type": "code",
   "execution_count": 11,
   "id": "cef346cd-8f0c-4fb7-a129-43bd0acb957f",
   "metadata": {},
   "outputs": [],
   "source": [
    "def search_database(query_json: dict) -> int:\n",
    "    api_query = dict(**query_json)\n",
    "    api_query.update(owner='visible', pagination=dict(page_size=0))\n",
    "    \n",
    "    \"\"\" Send a query to the search API of the database and return the number of results. \"\"\"\n",
    "    # Set the API endpoint URL\n",
    "    url = f'{config.client.url}/v1/entries/query'\n",
    "\n",
    "    # Send a POST request to the API endpoint with the query JSON object\n",
    "    response = requests.post(url, json=api_query)\n",
    "    \n",
    "    # Check if the response was successful (200 OK)\n",
    "    if response.status_code != 200:\n",
    "        raise Error(f\"Error. Status code {response.status_code}, {response.text}\")\n",
    "\n",
    "    # print(json.dumps(response.json(), indent=2))\n",
    "    \n",
    "    return response.json()[\"pagination\"][\"total\"]"
   ]
  },
  {
   "cell_type": "code",
   "execution_count": 12,
   "id": "88dc1152-4c42-4785-bbbe-123a55646450",
   "metadata": {},
   "outputs": [
    {
     "name": "stdout",
     "output_type": "stream",
     "text": [
      "I am looking for VASP simulations of bulk materials made from nickel or iron that have a dos available.: 472820\n",
      "I need to know the band structure of pure silicon: 19596\n",
      "Are there any elastic constant calculations?: 0\n",
      "My teacher told me, I need to learn about a code called octopy or something.: 0\n"
     ]
    }
   ],
   "source": [
    "for prompt, query in queries.items():\n",
    "    print(f'{prompt}: {search_database(query)}')"
   ]
  },
  {
   "cell_type": "markdown",
   "id": "b824ae9e-3758-4430-834a-02c2f67afddc",
   "metadata": {},
   "source": [
    "## Conclusions\n",
    "\n",
    "It works, some times. \n",
    "\n",
    "- What is good for a human is also good for LLMs. It is much easier to use the API if you know the keys, if you know the values.\n",
    "- Correcting after an uncessful search might help a lot.\n",
    "- LLM seem to struggle when needing to be specific: capitalization, numbers, restricting to fix values. Maybe a more coding oriented LLM would do a better job?"
   ]
  },
  {
   "cell_type": "code",
   "execution_count": null,
   "id": "d8657c32-c1bb-4fc4-977b-8c4542ab01ba",
   "metadata": {},
   "outputs": [],
   "source": []
  }
 ],
 "metadata": {
  "kernelspec": {
   "display_name": "Python 3 (ipykernel)",
   "language": "python",
   "name": "python3"
  },
  "language_info": {
   "codemirror_mode": {
    "name": "ipython",
    "version": 3
   },
   "file_extension": ".py",
   "mimetype": "text/x-python",
   "name": "python",
   "nbconvert_exporter": "python",
   "pygments_lexer": "ipython3",
   "version": "3.9.18"
  }
 },
 "nbformat": 4,
 "nbformat_minor": 5
}
