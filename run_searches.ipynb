{
 "cells": [
  {
   "cell_type": "code",
   "execution_count": 1,
   "id": "5f72a0af-6ff7-4f56-b692-8b2107222816",
   "metadata": {},
   "outputs": [],
   "source": [
    "# Just start with the most important keys\n",
    "limited_keys = \"\"\"\n",
    "entry_type\n",
    "published\n",
    "publish_time\n",
    "nomad_version\n",
    "external_db\n",
    "origin\n",
    "main_author.user_id\n",
    "writers.user_id\n",
    "writer_groups\n",
    "viewers.user_id\n",
    "viewer_groups\n",
    "domain\n",
    "quantities\n",
    "results.material.material_name\n",
    "results.material.structural_type\n",
    "results.material.dimensionality\n",
    "results.material.elements\n",
    "results.material.n_elements\n",
    "results.material.elements_exclusive\n",
    "results.material.chemical_formula_descriptive\n",
    "results.material.chemical_formula_reduced\n",
    "results.material.chemical_formula_hill\n",
    "results.material.chemical_formula_iupac\n",
    "results.material.symmetry.bravais_lattice\n",
    "results.material.symmetry.crystal_system\n",
    "results.material.symmetry.hall_number\n",
    "results.material.symmetry.hall_symbol\n",
    "results.material.symmetry.point_group\n",
    "results.material.symmetry.space_group_number\n",
    "results.material.symmetry.space_group_symbol\n",
    "results.material.symmetry.structure_name\n",
    "results.material.symmetry.strukturbericht_designation\n",
    "results.method.method_name\n",
    "results.method.simulation.program_name\n",
    "results.method.simulation.dft.basis_set_type\n",
    "results.method.simulation.dft.core_electron_treatment\n",
    "results.method.simulation.dft.spin_polarized\n",
    "results.method.simulation.dft.scf_threshold_energy_change\n",
    "results.method.simulation.dft.van_der_Waals_method\n",
    "results.method.simulation.dft.relativity_method\n",
    "results.method.simulation.dft.smearing_kind\n",
    "results.method.simulation.dft.smearing_width\n",
    "results.method.simulation.dft.jacobs_ladder\n",
    "results.method.simulation.dft.xc_functional_type\n",
    "results.method.simulation.dft.xc_functional_names\n",
    "results.properties.available_properties\n",
    "results.properties.electronic.band_gap.value\n",
    "results.properties.electronic.band_gap.type\n",
    "results.properties.geometry_optimization.convergence_tolerance_energy_difference\n",
    "results.properties.geometry_optimization.convergence_tolerance_force_maximum\n",
    "results.properties.geometry_optimization.final_force_maximum\n",
    "results.properties.geometry_optimization.final_energy_difference\n",
    "results.properties.geometry_optimization.final_displacement_maximum\"\"\".split()"
   ]
  },
  {
   "cell_type": "code",
   "execution_count": 2,
   "id": "972ced1f-7483-446b-908a-f12ae6b4f930",
   "metadata": {},
   "outputs": [
    {
     "name": "stderr",
     "output_type": "stream",
     "text": [
      "Schema is deprecated, use plugins. ()\n"
     ]
    },
    {
     "data": {
      "text/plain": [
       "1338"
      ]
     },
     "execution_count": 2,
     "metadata": {},
     "output_type": "execute_result"
    }
   ],
   "source": [
    "# produce some documentation of the search keys\n",
    "from nomad.datamodel import EntryArchive\n",
    "from nomad.metainfo import Reference, MEnum\n",
    "from nomad.metainfo.elasticsearch_extension import entry_index\n",
    "import json\n",
    "\n",
    "search_keys = dict()\n",
    "if not entry_index.doc_type.mapping:\n",
    "    entry_index.doc_type.create_mapping(EntryArchive.m_def)\n",
    "for key, value in entry_index.doc_type.quantities.items():\n",
    "    annotation = value.annotation\n",
    "\n",
    "    try:\n",
    "        if isinstance(annotation.definition.type, Reference):\n",
    "            continue\n",
    "\n",
    "        if isinstance(annotation.definition.type, MEnum):\n",
    "            type = list(annotation.definition.type)\n",
    "        else:\n",
    "            type = annotation.definition.type.__name__\n",
    "    except:\n",
    "        type = str(annotation.definition.type)\n",
    "\n",
    "    if annotation.field:\n",
    "        key = f'{key}.{annotation.field}'\n",
    "\n",
    "    if '__suggestion' in key:\n",
    "        continue\n",
    "    if 'optimade' in key:\n",
    "        continue\n",
    "    if 'topology' in key:\n",
    "        continue\n",
    "    if 'eln' in key:\n",
    "        continue\n",
    "\n",
    "    if key.startswith('data'):\n",
    "        continue\n",
    "\n",
    "    if not annotation.definition.description:\n",
    "        continue\n",
    "\n",
    "    if key not in set(limited_keys):\n",
    "        continue\n",
    "    \n",
    "    search_keys[key] = dict(\n",
    "        repeats=value.repeats,\n",
    "        description=annotation.definition.description,\n",
    "        type=type\n",
    "    )\n",
    "\n",
    "len(json.dumps(search_keys).split())"
   ]
  },
  {
   "cell_type": "code",
   "execution_count": 3,
   "id": "66b2aba0-62fc-417a-83ae-e7193cbc30a3",
   "metadata": {},
   "outputs": [],
   "source": [
    "# Some example queries\n",
    "example_queries = \"\"\"\n",
    "{\n",
    "  \"query\": {\n",
    "    \"results.method.simulation.program_name:any\": [  \n",
    "      \"VASP\"\n",
    "    ],\n",
    "    \"results.material.elements:any\": [\n",
    "      \"C\",\n",
    "      \"O\"\n",
    "    ],\n",
    "    \"results.properties.available_properties:all\": [\n",
    "      \"dos_electronic\"\n",
    "    ]\n",
    "  }\n",
    "}\n",
    "\n",
    "{\n",
    "  \"query\": {\n",
    "    \"results.method.simulation.program_name:any\": [  \n",
    "      \"exciting\"\n",
    "    ],\n",
    "    \"results.material.elements:any\": [\n",
    "      \"Ti\",\n",
    "      \"O\"\n",
    "    ],\n",
    "    \"results.material.symmetry.crystal_system\": \"cubic\",\n",
    "    \"results.properties.available_properties:all\": [\n",
    "      \"dos_electronic\", \"band_gap\", \"band_structure\"\n",
    "    ]\n",
    "  }\n",
    "}  \n",
    "\"\"\""
   ]
  },
  {
   "cell_type": "code",
   "execution_count": 4,
   "id": "3ee92fee-739b-4626-96ba-0693f254bd3e",
   "metadata": {},
   "outputs": [],
   "source": [
    "# A prompt template with the keys and examples plus some instructions\n",
    "base_template = '''\n",
    "```\n",
    "{search_keys}\n",
    "```\n",
    "\n",
    "There is a search API for a database for computational materials science data comprising mostly DFT \n",
    "calculations and simulations. This API has a search function that allows to search based the following keys.\n",
    "The keys are given above as JSON object where the keys are the keys and the values contain a description and type.\n",
    "\n",
    "These are the only available keys. Do not invent new keys! It is important to use the full keys. \n",
    "From these keys (and only those keys) you can create search queries like these:\n",
    "\n",
    "```\n",
    "{example_queries}\n",
    "```\n",
    "\n",
    "There needs to be a top level \"query\" key. Multiple criteria can be combined with \"and\", \"or\", and \"not\" operators.\n",
    "If you want to pass multiple values to a key, use the \":any\" (some values match) and \":all\" (all values match) suffix on the keys. Don't use a $ sign.\n",
    "'''"
   ]
  },
  {
   "cell_type": "code",
   "execution_count": 5,
   "id": "15449932-349a-4cf4-a923-c7938ea9ceb2",
   "metadata": {},
   "outputs": [],
   "source": [
    "# A prompt for creating a query based on user input\n",
    "generate_search_template = f'''\n",
    "{base_template}\n",
    "\n",
    "This describes what we want to search: {{input}}\n",
    "\n",
    "Generate a search query. Your output has to be valid JSON and only valid JSON.\n",
    "'''"
   ]
  },
  {
   "cell_type": "code",
   "execution_count": 6,
   "id": "1b879692-8e24-4311-9964-85a881fe4174",
   "metadata": {},
   "outputs": [
    {
     "name": "stdout",
     "output_type": "stream",
     "text": [
      "{\n",
      "  \"query\": {\n",
      "    \"results.method.simulation.program_name:any\": [\n",
      "      \"VASP\"\n",
      "    ],\n",
      "    \"results.material.elements:any\": [\n",
      "      \"Li\",\n",
      "      \"Be\",\n",
      "      \"Na\",\n",
      "      \"Mg\",\n",
      "      \"Al\",\n",
      "      \"K\",\n",
      "      \"Ca\"\n",
      "    ],\n",
      "    \"results.properties.available_properties:all\": [\n",
      "      \"dos_electronic\"\n",
      "    ]\n",
      "  }\n",
      "}\n"
     ]
    }
   ],
   "source": [
    "# Generating the search query\n",
    "from langchain_core.output_parsers import JsonOutputParser\n",
    "from langchain_core.prompts import ChatPromptTemplate\n",
    "import json\n",
    "from langchain_community.llms import Ollama\n",
    "\n",
    "llm = Ollama(model=\"llama3:70b\", temperature=0.05)\n",
    "llm.base_url = 'http://172.28.105.30/backend'\n",
    "\n",
    "prompt = ChatPromptTemplate.from_template(generate_search_template)\n",
    "output_parser = JsonOutputParser()\n",
    "\n",
    "chain = prompt | llm | output_parser\n",
    "\n",
    "api_query = chain.invoke({\n",
    "    \"search_keys\": json.dumps(search_keys, indent=2),\n",
    "    \"example_queries\": example_queries,\n",
    "    \"input\": \"I am looking for VASP simulations of bulk materials with common metals for elements and have a dos available.\"})\n",
    "\n",
    "print(json.dumps(api_query, indent=2))"
   ]
  },
  {
   "cell_type": "code",
   "execution_count": 11,
   "id": "cef346cd-8f0c-4fb7-a129-43bd0acb957f",
   "metadata": {},
   "outputs": [
    {
     "data": {
      "text/plain": [
       "{'page_size': 1,\n",
       " 'order_by': 'entry_id',\n",
       " 'order': 'asc',\n",
       " 'total': 1434133,\n",
       " 'next_page_after_value': '---9UIuzNJpS4IKamInkdUpmcn3_'}"
      ]
     },
     "execution_count": 11,
     "metadata": {},
     "output_type": "execute_result"
    }
   ],
   "source": [
    "# Running the query\n",
    "\n",
    "import requests\n",
    "\n",
    "def search_database(query_json: dict) -> int:\n",
    "    \"\"\" Send a query to the search API of the database and return the number of results. \"\"\"\n",
    "    # Set the API endpoint URL\n",
    "    url = \"https://nomad-lab.eu/prod/v1/api/v1/entries/query\"\n",
    "\n",
    "    # Send a POST request to the API endpoint with the query JSON object\n",
    "    response = requests.post(url, json=query_json)\n",
    "\n",
    "    # Check if the response was successful (200 OK)\n",
    "    if response.status_code != 200:\n",
    "        raise Error(f\"Error. Status code {response.status_code}, {response.text}\")\n",
    "    \n",
    "    return response.json()\n",
    "\n",
    "api_query.update(pagination=dict(page_size=1))\n",
    "api_result = search_database(api_query)\n",
    "api_result[\"pagination\"]"
   ]
  },
  {
   "cell_type": "code",
   "execution_count": 9,
   "id": "5887a886-8c00-4514-b691-dad28dd2d8d4",
   "metadata": {},
   "outputs": [],
   "source": [
    "# A prompt to extract the number of hits from the query response\n",
    "report_template = f\"\"\"\n",
    "{base_template}\n",
    "\n",
    "I ran the following query on the API:\n",
    "\n",
    "{{api_query}}\n",
    "\n",
    "The api responsed with the following JSON:\n",
    "\n",
    "{{api_result}}\n",
    "\n",
    "The amount is NOT! given by page_size. The total amount of entries \n",
    "is given by \"pagination.total\". Please extract the total number!\n",
    "\n",
    "Only respond with the total number. After this point, no more words!\n",
    "\"\"\""
   ]
  },
  {
   "cell_type": "code",
   "execution_count": 12,
   "id": "92bbbf2e-8d56-43d0-bd93-fc2658f67ee0",
   "metadata": {},
   "outputs": [
    {
     "data": {
      "text/plain": [
       "'1434133'"
      ]
     },
     "execution_count": 12,
     "metadata": {},
     "output_type": "execute_result"
    }
   ],
   "source": [
    "# Extract the total results\n",
    "prompt = ChatPromptTemplate.from_template(report_template)\n",
    "chain = prompt | llm\n",
    "chain.invoke({\n",
    "    \"search_keys\": json.dumps(search_keys, indent=2),\n",
    "    \"example_queries\": example_queries,\n",
    "    \"api_query\": json.dumps(api_query, indent=2),\n",
    "    \"api_result\": json.dumps(api_result[\"pagination\"], indent=2)})"
   ]
  }
 ],
 "metadata": {
  "kernelspec": {
   "display_name": "Python 3 (ipykernel)",
   "language": "python",
   "name": "python3"
  },
  "language_info": {
   "codemirror_mode": {
    "name": "ipython",
    "version": 3
   },
   "file_extension": ".py",
   "mimetype": "text/x-python",
   "name": "python",
   "nbconvert_exporter": "python",
   "pygments_lexer": "ipython3",
   "version": "3.9.18"
  }
 },
 "nbformat": 4,
 "nbformat_minor": 5
}
